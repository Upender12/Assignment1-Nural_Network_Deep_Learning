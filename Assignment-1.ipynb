{
  "nbformat": 4,
  "nbformat_minor": 0,
  "metadata": {
    "colab": {
      "provenance": [],
      "authorship_tag": "ABX9TyOBNlCNInUfmIQG0aci7Wg8",
      "include_colab_link": true
    },
    "kernelspec": {
      "name": "python3",
      "display_name": "Python 3"
    },
    "language_info": {
      "name": "python"
    }
  },
  "cells": [
    {
      "cell_type": "markdown",
      "metadata": {
        "id": "view-in-github",
        "colab_type": "text"
      },
      "source": [
        "<a href=\"https://colab.research.google.com/github/Upender12/Assignment1-Nural_Network_Deep_Learning/blob/main/Assignment-1.ipynb\" target=\"_parent\"><img src=\"https://colab.research.google.com/assets/colab-badge.svg\" alt=\"Open In Colab\"/></a>"
      ]
    },
    {
      "cell_type": "code",
      "execution_count": null,
      "metadata": {
        "id": "U6vGTPZDJ04C"
      },
      "outputs": [],
      "source": []
    },
    {
      "cell_type": "markdown",
      "source": [],
      "metadata": {
        "id": "Fv7Ttq-VJ-5j"
      }
    },
    {
      "cell_type": "code",
      "source": [
        "import random\n",
        "\n",
        "def main():\n",
        "    # give the input string\n",
        "    input_string = input(\"Enter a string: \")\n",
        "\n",
        "    # Convert the string to a list of characters\n",
        "    char_list = list(input_string)\n",
        "\n",
        "    # Delete random characters\n",
        "    num_deletions = random.randint(2, min(5, len(char_list)))  # Delete 2 to 5 characters\n",
        "    for _ in range(num_deletions):\n",
        "        if len(char_list) >= 2:\n",
        "            index_to_delete = random.randint(0, len(char_list) - 1)\n",
        "            del char_list[index_to_delete]\n",
        "        else:\n",
        "            print(\"String is too short to delete more characters.\")\n",
        "            break\n",
        "\n",
        "    # Reverse the output string\n",
        "    reversed_string = ''.join(reversed(char_list))\n",
        "\n",
        "    # Print the reversed string\n",
        "    print(\"Reversed string:\", reversed_string)\n",
        "\n",
        "if __name__ == \"__main__\":\n",
        "    main()\n",
        "\n"
      ],
      "metadata": {
        "colab": {
          "base_uri": "https://localhost:8080/"
        },
        "id": "bZkLnyq0J_M9",
        "outputId": "8570f152-b825-4c95-8cb1-325c1b61dc12"
      },
      "execution_count": 3,
      "outputs": [
        {
          "output_type": "stream",
          "name": "stdout",
          "text": [
            "Enter a string: python\n",
            "Reversed string: ohyp\n"
          ]
        }
      ]
    },
    {
      "cell_type": "code",
      "source": [
        "def main():\n",
        "    try:\n",
        "        num1 = float(input(\"Enter the first number: \"))\n",
        "        num2 = float(input(\"Enter the second number: \"))\n",
        "\n",
        "        # writing formulas for all the arthimetic operations\n",
        "        addition = num1 + num2\n",
        "        subtraction = num1 - num2\n",
        "        multiplication = num1 * num2\n",
        "\n",
        "        # logic to avoid dividing by zero\n",
        "        if num2 != 0:\n",
        "            division = num1 / num2\n",
        "        else:\n",
        "            division = \"Cannot divide by zero\"\n",
        "\n",
        "        print(\"Addition:\", addition)\n",
        "        print(\"Subtraction:\", subtraction)\n",
        "        print(\"Multiplication:\", multiplication)\n",
        "        print(\"Division:\", division)\n",
        "\n",
        "    except ValueError:\n",
        "        print(\"Invalid input. Please enter valid numbers.\")\n",
        "\n",
        "if __name__ == \"__main__\":\n",
        "    main()\n"
      ],
      "metadata": {
        "colab": {
          "base_uri": "https://localhost:8080/"
        },
        "id": "h0tFLFcQLH0h",
        "outputId": "cae63bf1-656f-4e61-84d5-417a6e4e2676"
      },
      "execution_count": 4,
      "outputs": [
        {
          "output_type": "stream",
          "name": "stdout",
          "text": [
            "Enter the first number: 5\n",
            "Enter the second number: 6\n",
            "Addition: 11.0\n",
            "Subtraction: -1.0\n",
            "Multiplication: 30.0\n",
            "Division: 0.8333333333333334\n"
          ]
        }
      ]
    },
    {
      "cell_type": "code",
      "source": [
        "def main():\n",
        "    sentence = input(\"Enter a sentence: \")\n",
        "\n",
        "\n",
        "    # given condition to replace the word python with pythons\n",
        "    updated_sentence = sentence.replace('python', 'pythons')\n",
        "\n",
        "\n",
        "    # Print the output\n",
        "    print(\"updated sentence:\", updated_sentence)\n",
        "\n",
        "\n",
        "if __name__ == \"__main__\":\n",
        "    main()\n"
      ],
      "metadata": {
        "colab": {
          "base_uri": "https://localhost:8080/"
        },
        "id": "SjPRs-jhLgYx",
        "outputId": "8cc8c2fe-e469-48fd-c7b6-44acb1e34a54"
      },
      "execution_count": 5,
      "outputs": [
        {
          "output_type": "stream",
          "name": "stdout",
          "text": [
            "Enter a sentence: I love playing with python\n",
            "updated sentence: I love playing with pythons\n"
          ]
        }
      ]
    },
    {
      "cell_type": "code",
      "source": [
        "def main():\n",
        "    try:\n",
        "        class_score = float(input(\"Enter the class score: \"))\n",
        "\n",
        "\n",
        "\n",
        "\n",
        "        # Check whether if the class score is greater than 100\n",
        "        if class_score > 100:\n",
        "            print(\"Invalid input. Class score cannot exceed 100.\")\n",
        "            return\n",
        "\n",
        "\n",
        "        # write the if else conditions based on the grading scale\n",
        "        if class_score >= 90:\n",
        "            letter_grade = 'A'\n",
        "        elif class_score >= 80:\n",
        "            letter_grade = 'B'\n",
        "        elif class_score >= 70:\n",
        "            letter_grade = 'C'\n",
        "        elif class_score >= 60:\n",
        "            letter_grade = 'D'\n",
        "        else:\n",
        "            letter_grade = 'F'\n",
        "\n",
        "\n",
        "        # Print the grade\n",
        "        print(\"Letter grade:\", letter_grade)\n",
        "\n",
        "\n",
        "    except ValueError:\n",
        "        print(\"Invalid input. Please enter a valid number.\")\n",
        "\n",
        "\n",
        "if __name__ == \"__main__\":\n",
        "    main()\n"
      ],
      "metadata": {
        "colab": {
          "base_uri": "https://localhost:8080/"
        },
        "id": "gEvELB8OLrzb",
        "outputId": "01b092ab-5ba4-4817-a241-1ff821d1820f"
      },
      "execution_count": 6,
      "outputs": [
        {
          "output_type": "stream",
          "name": "stdout",
          "text": [
            "Enter the class score: 60\n",
            "Letter grade: D\n"
          ]
        }
      ]
    }
  ]
}